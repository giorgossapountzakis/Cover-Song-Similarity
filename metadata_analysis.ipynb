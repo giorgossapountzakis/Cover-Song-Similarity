{
 "cells": [
  {
   "cell_type": "code",
   "execution_count": 8,
   "metadata": {},
   "outputs": [],
   "source": [
    "import json\n",
    "from collections import defaultdict\n",
    "from pathlib import Path\n",
    "import matplotlib.pyplot as plt\n",
    "import seaborn as sns"
   ]
  },
  {
   "cell_type": "code",
   "execution_count": 9,
   "metadata": {},
   "outputs": [],
   "source": [
    "class TACOSMetadataAnalyzer:\n",
    "    def __init__(self, metadata_path):\n",
    "        \"\"\"\n",
    "        parent class wt=ith functions to analyse the metadata of TACOS dataset\n",
    "        \"\"\"\n",
    "        self.metadata_path = Path(metadata_path)\n",
    "        self.works_data = None\n",
    "        # Dictionary to store organized cover relationships\n",
    "        self.cover_relationships = {}\n",
    "\n",
    "    def load_metadata(self):\n",
    "        \"\"\"\n",
    "        Load the metadata JSON file and organize it into cover relationships.\n",
    "        The file structure has works (original songs) containing multiple performances (versions).\n",
    "        \"\"\"\n",
    "        try:\n",
    "            with open(self.metadata_path, \"r\", encoding=\"utf-8\") as f:\n",
    "                self.works_data = json.load(f)\n",
    "\n",
    "            # Process each work (original song) and its performances (versions)\n",
    "            for work_id, performances in self.works_data.items():\n",
    "                # Get the first performance to extract work (original song) information\n",
    "                first_perf = next(iter(performances.values()))\n",
    "\n",
    "                self.cover_relationships[work_id] = {\"work_title\": first_perf[\"work_title\"], \"work_artist\": first_perf[\"work_artist\"], \"performances\": []}\n",
    "\n",
    "                # Add all performances (including different versions)\n",
    "                for perf_id, perf_data in performances.items():\n",
    "                    performance = {\n",
    "                        \"title\": perf_data[\"perf_title\"],\n",
    "                        \"artist\": perf_data[\"perf_artist\"],\n",
    "                        \"year\": perf_data.get(\"release_year\", \"Unknown\"),\n",
    "                        \"performance_id\": perf_id,\n",
    "                        \"instrumental\": perf_data.get(\"instrumental\", \"Unknown\"),\n",
    "                    }\n",
    "                    self.cover_relationships[work_id][\"performances\"].append(performance)\n",
    "\n",
    "                # Add count of covers\n",
    "                self.cover_relationships[work_id][\"number_of_covers\"] = len(performances)\n",
    "\n",
    "            return True\n",
    "\n",
    "        except Exception as e:\n",
    "            print(f\"Error loading metadata: {str(e)}\")\n",
    "            return False\n",
    "\n",
    "    def save_cover_relationships(self, output_file=\"cover_relationships.txt\", min_covers=1):\n",
    "        \"\"\"\n",
    "        Save organized information about each work and its covers to a file.\n",
    "        \"\"\"\n",
    "\n",
    "        if not self.cover_relationships:\n",
    "            print(\"No data loaded. Please run load_metadata() first.\")\n",
    "            return\n",
    "\n",
    "        with open(output_file, \"w\", encoding=\"utf-8\") as f:\n",
    "            f.write(f\"\\nFound {len(self.cover_relationships)} works with performances:\\n\")\n",
    "            f.write(\"=\" * 80 + \"\\n\")\n",
    "\n",
    "            for work_id, work_info in self.cover_relationships.items():\n",
    "                if work_info[\"number_of_covers\"] >= min_covers:\n",
    "                    f.write(f\"\\nOriginal Work: {work_info['work_title']}\\n\")\n",
    "                    f.write(f\"Original Artist: {work_info['work_artist']}\\n\")\n",
    "                    f.write(f\"Number of covers: {work_info['number_of_covers']}\\n\")\n",
    "\n",
    "                    f.write(\"\\nPerformances:\\n\")\n",
    "                    for idx, perf in enumerate(work_info[\"performances\"], 1):\n",
    "                        f.write(f\"{idx}. '{perf['title']}' by {perf['artist']} ({perf['year']})\\n\")\n",
    "                        f.write(f\"   Instrumental: {perf['instrumental']}\\n\")\n",
    "                    f.write(\"-\" * 80 + \"\\n\")\n",
    "\n",
    "        print(f\"Cover relationships saved to {output_file}\")\n",
    "\n",
    "    def get_statistics(self):\n",
    "        \"\"\"\n",
    "        Calculate and return statistics about the dataset.\n",
    "        \"\"\"\n",
    "        if not self.cover_relationships:\n",
    "            return None\n",
    "\n",
    "        stats = {\n",
    "            \"total_works\": len(self.cover_relationships),\n",
    "            \"total_performances\": sum(len(work[\"performances\"]) for work in self.cover_relationships.values()),\n",
    "            \"works_with_covers\": sum(1 for work in self.cover_relationships.values() if work[\"number_of_covers\"] > 0),\n",
    "            \"most_covered\": sorted([(work[\"work_title\"], work[\"number_of_covers\"]) for work in self.cover_relationships.values()], key=lambda x: x[1], reverse=True)[:5],\n",
    "            \"instrumental_count\": sum(sum(1 for perf in work[\"performances\"] if perf[\"instrumental\"] == \"Yes\") for work in self.cover_relationships.values()),\n",
    "        }\n",
    "\n",
    "        # Calculate average covers per work\n",
    "        stats[\"avg_covers_per_work\"] = (stats[\"total_performances\"] - stats[\"total_works\"]) / stats[\"total_works\"]\n",
    "\n",
    "        return stats\n",
    "\n",
    "    def find_work_by_artist(self, artist_name):\n",
    "        \"\"\"\n",
    "        Find all works performed by a specific artist.\n",
    "        \"\"\"\n",
    "        found_works = []\n",
    "        for work_id, work_info in self.cover_relationships.items():\n",
    "            # Check original artist\n",
    "            if artist_name.lower() in work_info[\"work_artist\"].lower():\n",
    "                found_works.append({\"work_title\": work_info[\"work_title\"], \"role\": \"original artist\", \"number_of_covers\": work_info[\"number_of_covers\"]})\n",
    "\n",
    "            # Check cover artists\n",
    "            for perf in work_info[\"performances\"]:\n",
    "                if artist_name.lower() in perf[\"artist\"].lower():\n",
    "                    if perf[\"artist\"].lower() != work_info[\"work_artist\"].lower():\n",
    "                        found_works.append({\"work_title\": work_info[\"work_title\"], \"role\": \"cover artist\", \"year\": perf[\"year\"], \"original_artist\": work_info[\"work_artist\"]})\n",
    "\n",
    "        return found_works\n",
    "\n",
    "    def plot_covers_distribution(self):\n",
    "        \"\"\"\n",
    "        Creates a histogram showing the distribution of how many songs have a certain number of covers.\n",
    "        \"\"\"\n",
    "\n",
    "        covers_per_work = [work[\"number_of_covers\"] for work in self.cover_relationships.values()]\n",
    "\n",
    "        plt.figure(figsize=(12, 6))\n",
    "        sns.set_style(\"whitegrid\")\n",
    "\n",
    "        # Create the histogram\n",
    "        plt.hist(covers_per_work, bins=\"auto\", edgecolor=\"black\", alpha=0.7)\n",
    "        plt.xlabel(\"Number of Covers\", fontsize=12)\n",
    "        plt.ylabel(\"Number of Original Works\", fontsize=12)\n",
    "        plt.title(\"Distribution of Covers per Original Work\", fontsize=14, pad=20)\n",
    "\n",
    "        # statistical annotations\n",
    "        avg_covers = sum(covers_per_work) / len(covers_per_work)\n",
    "        max_covers = max(covers_per_work)\n",
    "        stats_text = f\"Total Works: {len(covers_per_work)}\\n\" f\"Average Covers: {avg_covers:.1f}\\n\" f\"Maximum Covers: {max_covers}\"\n",
    "\n",
    "        plt.text(0.95, 0.95, stats_text, transform=plt.gca().transAxes, verticalalignment=\"top\", horizontalalignment=\"right\", bbox=dict(boxstyle=\"round\", facecolor=\"white\", alpha=0.8))\n",
    "        plt.tight_layout()\n",
    "        plt.show()\n",
    "\n",
    "        # Print additional insights about the distribution\n",
    "        print(\"\\nDistribution Insights:\")\n",
    "        print(f\"Most common: {max(set(covers_per_work), key=covers_per_work.count)} covers\")\n",
    "        print(f\"Number of works with no covers: \" f\"{sum(1 for x in covers_per_work if x == 0)}\")\n",
    "        print(f\"Number of works with 5+ covers: \" f\"{sum(1 for x in covers_per_work if x >= 5)}\")\n",
    "\n",
    "    def create_cover_key_mapping(self):\n",
    "        \"\"\"\n",
    "        Creates a mapping of work ids and performance ids\n",
    "        \"\"\"\n",
    "        if not self.works_data:\n",
    "            print(\"No data loaded. Please run load_metadata() first.\")\n",
    "            return None\n",
    "\n",
    "        cover_key_mapping = {}\n",
    "        for work_id, performances in self.works_data.items():\n",
    "            # Get the first performance (original version)\n",
    "            first_perf_id = min(performances.keys())\n",
    "            # Get all cover performance IDs (excluding the original)\n",
    "            cover_perf_ids = [pid for pid in performances.keys() if pid != first_perf_id]\n",
    "\n",
    "            # Only include works that have at least one cover\n",
    "            if cover_perf_ids:\n",
    "                cover_key_mapping[work_id] = cover_perf_ids\n",
    "\n",
    "        return cover_key_mapping"
   ]
  },
  {
   "cell_type": "code",
   "execution_count": null,
   "metadata": {},
   "outputs": [],
   "source": []
  },
  {
   "cell_type": "code",
   "execution_count": 10,
   "metadata": {},
   "outputs": [
    {
     "name": "stdout",
     "output_type": "stream",
     "text": [
      "Cover relationships saved to cover_relationships.txt\n"
     ]
    }
   ],
   "source": [
    "analyzer = TACOSMetadataAnalyzer(r\"D:\\TACOS\\da-tacos_metadata\\da-tacos_metadata\\da-tacos_benchmark_subset_metadata.json\")\n",
    "analyzer.load_metadata()\n",
    "analyzer.save_cover_relationships(min_covers=1)"
   ]
  },
  {
   "cell_type": "code",
   "execution_count": 11,
   "metadata": {},
   "outputs": [
    {
     "name": "stdout",
     "output_type": "stream",
     "text": [
      "{'avg_covers_per_work': 4.0,\n",
      " 'instrumental_count': 3243,\n",
      " 'most_covered': [('Under the Bridge', 13),\n",
      "                  ('Take Me to Church', 13),\n",
      "                  ('I Am a Rock', 13),\n",
      "                  ('Where Is My Mind?', 13),\n",
      "                  (\"I Can't Help It\", 13)],\n",
      " 'total_performances': 15000,\n",
      " 'total_works': 3000,\n",
      " 'works_with_covers': 3000}\n"
     ]
    }
   ],
   "source": [
    "from pprint import pprint\n",
    "\n",
    "\n",
    "stats = analyzer.get_statistics()\n",
    "\n",
    "pprint(stats)"
   ]
  },
  {
   "cell_type": "code",
   "execution_count": 12,
   "metadata": {},
   "outputs": [
    {
     "name": "stdout",
     "output_type": "stream",
     "text": [
      "[{'number_of_covers': 13,\n",
      "  'role': 'original artist',\n",
      "  'work_title': 'Under the Bridge'},\n",
      " {'original_artist': 'Bobbie Gentry',\n",
      "  'role': 'cover artist',\n",
      "  'work_title': 'Ode to Billie Joe',\n",
      "  'year': '1968'}]\n"
     ]
    }
   ],
   "source": [
    "artist_works = analyzer.find_work_by_artist(\"Flea\")\n",
    "pprint(artist_works)"
   ]
  },
  {
   "cell_type": "code",
   "execution_count": 13,
   "metadata": {},
   "outputs": [
    {
     "data": {
      "image/png": "[encoded data removed]",
      "text/plain": [
       "<Figure size 1200x600 with 1 Axes>"
      ]
     },
     "metadata": {},
     "output_type": "display_data"
    },
    {
     "name": "stdout",
     "output_type": "stream",
     "text": [
      "\n",
      "Distribution Insights:\n",
      "Most common: 1 covers\n",
      "Number of works with no covers: 0\n",
      "Number of works with 5+ covers: 1000\n"
     ]
    }
   ],
   "source": [
    "analyzer.plot_covers_distribution()"
   ]
  },
  {
   "cell_type": "code",
   "execution_count": 14,
   "metadata": {},
   "outputs": [],
   "source": [
    "cover_mapping = analyzer.create_cover_key_mapping()\n",
    "with open(\"cover_mapping.json\", \"w\") as outfile:\n",
    "    json.dump(cover_mapping, outfile, indent=4)"
   ]
  }
 ],
 "metadata": {
  "kernelspec": {
   "display_name": ".venv",
   "language": "python",
   "name": "python3"
  },
  "language_info": {
   "codemirror_mode": {
    "name": "ipython",
    "version": 3
   },
   "file_extension": ".py",
   "mimetype": "text/x-python",
   "name": "python",
   "nbconvert_exporter": "python",
   "pygments_lexer": "ipython3",
   "version": "3.12.3"
  }
 },
 "nbformat": 4,
 "nbformat_minor": 2
}
